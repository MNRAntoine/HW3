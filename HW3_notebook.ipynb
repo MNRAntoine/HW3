{
  "nbformat": 4,
  "nbformat_minor": 0,
  "metadata": {
    "colab": {
      "provenance": [],
      "gpuType": "T4"
    },
    "kernelspec": {
      "name": "python3",
      "display_name": "Python 3"
    },
    "language_info": {
      "name": "python"
    },
    "accelerator": "GPU",
    "widgets": {
      "application/vnd.jupyter.widget-state+json": {
        "e13264d6d2c14a2d9c3baa211cd7e68b": {
          "model_module": "@jupyter-widgets/controls",
          "model_name": "HBoxModel",
          "model_module_version": "1.5.0",
          "state": {
            "_dom_classes": [],
            "_model_module": "@jupyter-widgets/controls",
            "_model_module_version": "1.5.0",
            "_model_name": "HBoxModel",
            "_view_count": null,
            "_view_module": "@jupyter-widgets/controls",
            "_view_module_version": "1.5.0",
            "_view_name": "HBoxView",
            "box_style": "",
            "children": [
              "IPY_MODEL_0d593a24a3fb47e6b5f73e8fa7aa408c",
              "IPY_MODEL_f038d53a20594ade808c1f9ea0741c38",
              "IPY_MODEL_4755962e7b1044cb97a01bd93eefd712"
            ],
            "layout": "IPY_MODEL_42f7aacc8283498787d5055018cb9398"
          }
        },
        "0d593a24a3fb47e6b5f73e8fa7aa408c": {
          "model_module": "@jupyter-widgets/controls",
          "model_name": "HTMLModel",
          "model_module_version": "1.5.0",
          "state": {
            "_dom_classes": [],
            "_model_module": "@jupyter-widgets/controls",
            "_model_module_version": "1.5.0",
            "_model_name": "HTMLModel",
            "_view_count": null,
            "_view_module": "@jupyter-widgets/controls",
            "_view_module_version": "1.5.0",
            "_view_name": "HTMLView",
            "description": "",
            "description_tooltip": null,
            "layout": "IPY_MODEL_f9790436bf3947cba738fdeb39d09a28",
            "placeholder": "​",
            "style": "IPY_MODEL_7d8adf3d60074fd59952840fb87a9a33",
            "value": "config.json: 100%"
          }
        },
        "f038d53a20594ade808c1f9ea0741c38": {
          "model_module": "@jupyter-widgets/controls",
          "model_name": "FloatProgressModel",
          "model_module_version": "1.5.0",
          "state": {
            "_dom_classes": [],
            "_model_module": "@jupyter-widgets/controls",
            "_model_module_version": "1.5.0",
            "_model_name": "FloatProgressModel",
            "_view_count": null,
            "_view_module": "@jupyter-widgets/controls",
            "_view_module_version": "1.5.0",
            "_view_name": "ProgressView",
            "bar_style": "success",
            "description": "",
            "description_tooltip": null,
            "layout": "IPY_MODEL_683f50598aa2413e8e1ce74e4e6370f7",
            "max": 467,
            "min": 0,
            "orientation": "horizontal",
            "style": "IPY_MODEL_522d981c98ec4b14a44f5b8afc42c6de",
            "value": 467
          }
        },
        "4755962e7b1044cb97a01bd93eefd712": {
          "model_module": "@jupyter-widgets/controls",
          "model_name": "HTMLModel",
          "model_module_version": "1.5.0",
          "state": {
            "_dom_classes": [],
            "_model_module": "@jupyter-widgets/controls",
            "_model_module_version": "1.5.0",
            "_model_name": "HTMLModel",
            "_view_count": null,
            "_view_module": "@jupyter-widgets/controls",
            "_view_module_version": "1.5.0",
            "_view_name": "HTMLView",
            "description": "",
            "description_tooltip": null,
            "layout": "IPY_MODEL_0f6a953a9a454d2a819ed803c1cbf4f0",
            "placeholder": "​",
            "style": "IPY_MODEL_ae0c00cf413d4ffea6d1b9eaae271cec",
            "value": " 467/467 [00:00&lt;00:00, 39.3kB/s]"
          }
        },
        "42f7aacc8283498787d5055018cb9398": {
          "model_module": "@jupyter-widgets/base",
          "model_name": "LayoutModel",
          "model_module_version": "1.2.0",
          "state": {
            "_model_module": "@jupyter-widgets/base",
            "_model_module_version": "1.2.0",
            "_model_name": "LayoutModel",
            "_view_count": null,
            "_view_module": "@jupyter-widgets/base",
            "_view_module_version": "1.2.0",
            "_view_name": "LayoutView",
            "align_content": null,
            "align_items": null,
            "align_self": null,
            "border": null,
            "bottom": null,
            "display": null,
            "flex": null,
            "flex_flow": null,
            "grid_area": null,
            "grid_auto_columns": null,
            "grid_auto_flow": null,
            "grid_auto_rows": null,
            "grid_column": null,
            "grid_gap": null,
            "grid_row": null,
            "grid_template_areas": null,
            "grid_template_columns": null,
            "grid_template_rows": null,
            "height": null,
            "justify_content": null,
            "justify_items": null,
            "left": null,
            "margin": null,
            "max_height": null,
            "max_width": null,
            "min_height": null,
            "min_width": null,
            "object_fit": null,
            "object_position": null,
            "order": null,
            "overflow": null,
            "overflow_x": null,
            "overflow_y": null,
            "padding": null,
            "right": null,
            "top": null,
            "visibility": null,
            "width": null
          }
        },
        "f9790436bf3947cba738fdeb39d09a28": {
          "model_module": "@jupyter-widgets/base",
          "model_name": "LayoutModel",
          "model_module_version": "1.2.0",
          "state": {
            "_model_module": "@jupyter-widgets/base",
            "_model_module_version": "1.2.0",
            "_model_name": "LayoutModel",
            "_view_count": null,
            "_view_module": "@jupyter-widgets/base",
            "_view_module_version": "1.2.0",
            "_view_name": "LayoutView",
            "align_content": null,
            "align_items": null,
            "align_self": null,
            "border": null,
            "bottom": null,
            "display": null,
            "flex": null,
            "flex_flow": null,
            "grid_area": null,
            "grid_auto_columns": null,
            "grid_auto_flow": null,
            "grid_auto_rows": null,
            "grid_column": null,
            "grid_gap": null,
            "grid_row": null,
            "grid_template_areas": null,
            "grid_template_columns": null,
            "grid_template_rows": null,
            "height": null,
            "justify_content": null,
            "justify_items": null,
            "left": null,
            "margin": null,
            "max_height": null,
            "max_width": null,
            "min_height": null,
            "min_width": null,
            "object_fit": null,
            "object_position": null,
            "order": null,
            "overflow": null,
            "overflow_x": null,
            "overflow_y": null,
            "padding": null,
            "right": null,
            "top": null,
            "visibility": null,
            "width": null
          }
        },
        "7d8adf3d60074fd59952840fb87a9a33": {
          "model_module": "@jupyter-widgets/controls",
          "model_name": "DescriptionStyleModel",
          "model_module_version": "1.5.0",
          "state": {
            "_model_module": "@jupyter-widgets/controls",
            "_model_module_version": "1.5.0",
            "_model_name": "DescriptionStyleModel",
            "_view_count": null,
            "_view_module": "@jupyter-widgets/base",
            "_view_module_version": "1.2.0",
            "_view_name": "StyleView",
            "description_width": ""
          }
        },
        "683f50598aa2413e8e1ce74e4e6370f7": {
          "model_module": "@jupyter-widgets/base",
          "model_name": "LayoutModel",
          "model_module_version": "1.2.0",
          "state": {
            "_model_module": "@jupyter-widgets/base",
            "_model_module_version": "1.2.0",
            "_model_name": "LayoutModel",
            "_view_count": null,
            "_view_module": "@jupyter-widgets/base",
            "_view_module_version": "1.2.0",
            "_view_name": "LayoutView",
            "align_content": null,
            "align_items": null,
            "align_self": null,
            "border": null,
            "bottom": null,
            "display": null,
            "flex": null,
            "flex_flow": null,
            "grid_area": null,
            "grid_auto_columns": null,
            "grid_auto_flow": null,
            "grid_auto_rows": null,
            "grid_column": null,
            "grid_gap": null,
            "grid_row": null,
            "grid_template_areas": null,
            "grid_template_columns": null,
            "grid_template_rows": null,
            "height": null,
            "justify_content": null,
            "justify_items": null,
            "left": null,
            "margin": null,
            "max_height": null,
            "max_width": null,
            "min_height": null,
            "min_width": null,
            "object_fit": null,
            "object_position": null,
            "order": null,
            "overflow": null,
            "overflow_x": null,
            "overflow_y": null,
            "padding": null,
            "right": null,
            "top": null,
            "visibility": null,
            "width": null
          }
        },
        "522d981c98ec4b14a44f5b8afc42c6de": {
          "model_module": "@jupyter-widgets/controls",
          "model_name": "ProgressStyleModel",
          "model_module_version": "1.5.0",
          "state": {
            "_model_module": "@jupyter-widgets/controls",
            "_model_module_version": "1.5.0",
            "_model_name": "ProgressStyleModel",
            "_view_count": null,
            "_view_module": "@jupyter-widgets/base",
            "_view_module_version": "1.2.0",
            "_view_name": "StyleView",
            "bar_color": null,
            "description_width": ""
          }
        },
        "0f6a953a9a454d2a819ed803c1cbf4f0": {
          "model_module": "@jupyter-widgets/base",
          "model_name": "LayoutModel",
          "model_module_version": "1.2.0",
          "state": {
            "_model_module": "@jupyter-widgets/base",
            "_model_module_version": "1.2.0",
            "_model_name": "LayoutModel",
            "_view_count": null,
            "_view_module": "@jupyter-widgets/base",
            "_view_module_version": "1.2.0",
            "_view_name": "LayoutView",
            "align_content": null,
            "align_items": null,
            "align_self": null,
            "border": null,
            "bottom": null,
            "display": null,
            "flex": null,
            "flex_flow": null,
            "grid_area": null,
            "grid_auto_columns": null,
            "grid_auto_flow": null,
            "grid_auto_rows": null,
            "grid_column": null,
            "grid_gap": null,
            "grid_row": null,
            "grid_template_areas": null,
            "grid_template_columns": null,
            "grid_template_rows": null,
            "height": null,
            "justify_content": null,
            "justify_items": null,
            "left": null,
            "margin": null,
            "max_height": null,
            "max_width": null,
            "min_height": null,
            "min_width": null,
            "object_fit": null,
            "object_position": null,
            "order": null,
            "overflow": null,
            "overflow_x": null,
            "overflow_y": null,
            "padding": null,
            "right": null,
            "top": null,
            "visibility": null,
            "width": null
          }
        },
        "ae0c00cf413d4ffea6d1b9eaae271cec": {
          "model_module": "@jupyter-widgets/controls",
          "model_name": "DescriptionStyleModel",
          "model_module_version": "1.5.0",
          "state": {
            "_model_module": "@jupyter-widgets/controls",
            "_model_module_version": "1.5.0",
            "_model_name": "DescriptionStyleModel",
            "_view_count": null,
            "_view_module": "@jupyter-widgets/base",
            "_view_module_version": "1.2.0",
            "_view_name": "StyleView",
            "description_width": ""
          }
        },
        "e7d27e54fc8e415da03170324ea43ea8": {
          "model_module": "@jupyter-widgets/controls",
          "model_name": "HBoxModel",
          "model_module_version": "1.5.0",
          "state": {
            "_dom_classes": [],
            "_model_module": "@jupyter-widgets/controls",
            "_model_module_version": "1.5.0",
            "_model_name": "HBoxModel",
            "_view_count": null,
            "_view_module": "@jupyter-widgets/controls",
            "_view_module_version": "1.5.0",
            "_view_name": "HBoxView",
            "box_style": "",
            "children": [
              "IPY_MODEL_de8e3655f5304dfda84de8e84e0e5608",
              "IPY_MODEL_5f3035d82ee44a1ca7eb37de45a2f425",
              "IPY_MODEL_6854e1f13b1e4cd8b2ec11314e72056e"
            ],
            "layout": "IPY_MODEL_81357e82f1494cdab6075396f8e8827e"
          }
        },
        "de8e3655f5304dfda84de8e84e0e5608": {
          "model_module": "@jupyter-widgets/controls",
          "model_name": "HTMLModel",
          "model_module_version": "1.5.0",
          "state": {
            "_dom_classes": [],
            "_model_module": "@jupyter-widgets/controls",
            "_model_module_version": "1.5.0",
            "_model_name": "HTMLModel",
            "_view_count": null,
            "_view_module": "@jupyter-widgets/controls",
            "_view_module_version": "1.5.0",
            "_view_name": "HTMLView",
            "description": "",
            "description_tooltip": null,
            "layout": "IPY_MODEL_7b1acf0b890f4283a18c71f430d4a5eb",
            "placeholder": "​",
            "style": "IPY_MODEL_948b8355812643f48e9f2abf81ad986b",
            "value": "vocab.txt: 100%"
          }
        },
        "5f3035d82ee44a1ca7eb37de45a2f425": {
          "model_module": "@jupyter-widgets/controls",
          "model_name": "FloatProgressModel",
          "model_module_version": "1.5.0",
          "state": {
            "_dom_classes": [],
            "_model_module": "@jupyter-widgets/controls",
            "_model_module_version": "1.5.0",
            "_model_name": "FloatProgressModel",
            "_view_count": null,
            "_view_module": "@jupyter-widgets/controls",
            "_view_module_version": "1.5.0",
            "_view_name": "ProgressView",
            "bar_style": "success",
            "description": "",
            "description_tooltip": null,
            "layout": "IPY_MODEL_b8e24137c2d24929b508b7891b369b49",
            "max": 378000,
            "min": 0,
            "orientation": "horizontal",
            "style": "IPY_MODEL_e68b1c71ea3342ba8dbd956cba34f5af",
            "value": 378000
          }
        },
        "6854e1f13b1e4cd8b2ec11314e72056e": {
          "model_module": "@jupyter-widgets/controls",
          "model_name": "HTMLModel",
          "model_module_version": "1.5.0",
          "state": {
            "_dom_classes": [],
            "_model_module": "@jupyter-widgets/controls",
            "_model_module_version": "1.5.0",
            "_model_name": "HTMLModel",
            "_view_count": null,
            "_view_module": "@jupyter-widgets/controls",
            "_view_module_version": "1.5.0",
            "_view_name": "HTMLView",
            "description": "",
            "description_tooltip": null,
            "layout": "IPY_MODEL_a3fd8fed50964b9ab24524a462a3cc7d",
            "placeholder": "​",
            "style": "IPY_MODEL_0f251dfafdd042268c59e470a29365c1",
            "value": " 378k/378k [00:00&lt;00:00, 2.34MB/s]"
          }
        },
        "81357e82f1494cdab6075396f8e8827e": {
          "model_module": "@jupyter-widgets/base",
          "model_name": "LayoutModel",
          "model_module_version": "1.2.0",
          "state": {
            "_model_module": "@jupyter-widgets/base",
            "_model_module_version": "1.2.0",
            "_model_name": "LayoutModel",
            "_view_count": null,
            "_view_module": "@jupyter-widgets/base",
            "_view_module_version": "1.2.0",
            "_view_name": "LayoutView",
            "align_content": null,
            "align_items": null,
            "align_self": null,
            "border": null,
            "bottom": null,
            "display": null,
            "flex": null,
            "flex_flow": null,
            "grid_area": null,
            "grid_auto_columns": null,
            "grid_auto_flow": null,
            "grid_auto_rows": null,
            "grid_column": null,
            "grid_gap": null,
            "grid_row": null,
            "grid_template_areas": null,
            "grid_template_columns": null,
            "grid_template_rows": null,
            "height": null,
            "justify_content": null,
            "justify_items": null,
            "left": null,
            "margin": null,
            "max_height": null,
            "max_width": null,
            "min_height": null,
            "min_width": null,
            "object_fit": null,
            "object_position": null,
            "order": null,
            "overflow": null,
            "overflow_x": null,
            "overflow_y": null,
            "padding": null,
            "right": null,
            "top": null,
            "visibility": null,
            "width": null
          }
        },
        "7b1acf0b890f4283a18c71f430d4a5eb": {
          "model_module": "@jupyter-widgets/base",
          "model_name": "LayoutModel",
          "model_module_version": "1.2.0",
          "state": {
            "_model_module": "@jupyter-widgets/base",
            "_model_module_version": "1.2.0",
            "_model_name": "LayoutModel",
            "_view_count": null,
            "_view_module": "@jupyter-widgets/base",
            "_view_module_version": "1.2.0",
            "_view_name": "LayoutView",
            "align_content": null,
            "align_items": null,
            "align_self": null,
            "border": null,
            "bottom": null,
            "display": null,
            "flex": null,
            "flex_flow": null,
            "grid_area": null,
            "grid_auto_columns": null,
            "grid_auto_flow": null,
            "grid_auto_rows": null,
            "grid_column": null,
            "grid_gap": null,
            "grid_row": null,
            "grid_template_areas": null,
            "grid_template_columns": null,
            "grid_template_rows": null,
            "height": null,
            "justify_content": null,
            "justify_items": null,
            "left": null,
            "margin": null,
            "max_height": null,
            "max_width": null,
            "min_height": null,
            "min_width": null,
            "object_fit": null,
            "object_position": null,
            "order": null,
            "overflow": null,
            "overflow_x": null,
            "overflow_y": null,
            "padding": null,
            "right": null,
            "top": null,
            "visibility": null,
            "width": null
          }
        },
        "948b8355812643f48e9f2abf81ad986b": {
          "model_module": "@jupyter-widgets/controls",
          "model_name": "DescriptionStyleModel",
          "model_module_version": "1.5.0",
          "state": {
            "_model_module": "@jupyter-widgets/controls",
            "_model_module_version": "1.5.0",
            "_model_name": "DescriptionStyleModel",
            "_view_count": null,
            "_view_module": "@jupyter-widgets/base",
            "_view_module_version": "1.2.0",
            "_view_name": "StyleView",
            "description_width": ""
          }
        },
        "b8e24137c2d24929b508b7891b369b49": {
          "model_module": "@jupyter-widgets/base",
          "model_name": "LayoutModel",
          "model_module_version": "1.2.0",
          "state": {
            "_model_module": "@jupyter-widgets/base",
            "_model_module_version": "1.2.0",
            "_model_name": "LayoutModel",
            "_view_count": null,
            "_view_module": "@jupyter-widgets/base",
            "_view_module_version": "1.2.0",
            "_view_name": "LayoutView",
            "align_content": null,
            "align_items": null,
            "align_self": null,
            "border": null,
            "bottom": null,
            "display": null,
            "flex": null,
            "flex_flow": null,
            "grid_area": null,
            "grid_auto_columns": null,
            "grid_auto_flow": null,
            "grid_auto_rows": null,
            "grid_column": null,
            "grid_gap": null,
            "grid_row": null,
            "grid_template_areas": null,
            "grid_template_columns": null,
            "grid_template_rows": null,
            "height": null,
            "justify_content": null,
            "justify_items": null,
            "left": null,
            "margin": null,
            "max_height": null,
            "max_width": null,
            "min_height": null,
            "min_width": null,
            "object_fit": null,
            "object_position": null,
            "order": null,
            "overflow": null,
            "overflow_x": null,
            "overflow_y": null,
            "padding": null,
            "right": null,
            "top": null,
            "visibility": null,
            "width": null
          }
        },
        "e68b1c71ea3342ba8dbd956cba34f5af": {
          "model_module": "@jupyter-widgets/controls",
          "model_name": "ProgressStyleModel",
          "model_module_version": "1.5.0",
          "state": {
            "_model_module": "@jupyter-widgets/controls",
            "_model_module_version": "1.5.0",
            "_model_name": "ProgressStyleModel",
            "_view_count": null,
            "_view_module": "@jupyter-widgets/base",
            "_view_module_version": "1.2.0",
            "_view_name": "StyleView",
            "bar_color": null,
            "description_width": ""
          }
        },
        "a3fd8fed50964b9ab24524a462a3cc7d": {
          "model_module": "@jupyter-widgets/base",
          "model_name": "LayoutModel",
          "model_module_version": "1.2.0",
          "state": {
            "_model_module": "@jupyter-widgets/base",
            "_model_module_version": "1.2.0",
            "_model_name": "LayoutModel",
            "_view_count": null,
            "_view_module": "@jupyter-widgets/base",
            "_view_module_version": "1.2.0",
            "_view_name": "LayoutView",
            "align_content": null,
            "align_items": null,
            "align_self": null,
            "border": null,
            "bottom": null,
            "display": null,
            "flex": null,
            "flex_flow": null,
            "grid_area": null,
            "grid_auto_columns": null,
            "grid_auto_flow": null,
            "grid_auto_rows": null,
            "grid_column": null,
            "grid_gap": null,
            "grid_row": null,
            "grid_template_areas": null,
            "grid_template_columns": null,
            "grid_template_rows": null,
            "height": null,
            "justify_content": null,
            "justify_items": null,
            "left": null,
            "margin": null,
            "max_height": null,
            "max_width": null,
            "min_height": null,
            "min_width": null,
            "object_fit": null,
            "object_position": null,
            "order": null,
            "overflow": null,
            "overflow_x": null,
            "overflow_y": null,
            "padding": null,
            "right": null,
            "top": null,
            "visibility": null,
            "width": null
          }
        },
        "0f251dfafdd042268c59e470a29365c1": {
          "model_module": "@jupyter-widgets/controls",
          "model_name": "DescriptionStyleModel",
          "model_module_version": "1.5.0",
          "state": {
            "_model_module": "@jupyter-widgets/controls",
            "_model_module_version": "1.5.0",
            "_model_name": "DescriptionStyleModel",
            "_view_count": null,
            "_view_module": "@jupyter-widgets/base",
            "_view_module_version": "1.2.0",
            "_view_name": "StyleView",
            "description_width": ""
          }
        },
        "e8ba8586b0344b038552e175666c715a": {
          "model_module": "@jupyter-widgets/controls",
          "model_name": "HBoxModel",
          "model_module_version": "1.5.0",
          "state": {
            "_dom_classes": [],
            "_model_module": "@jupyter-widgets/controls",
            "_model_module_version": "1.5.0",
            "_model_name": "HBoxModel",
            "_view_count": null,
            "_view_module": "@jupyter-widgets/controls",
            "_view_module_version": "1.5.0",
            "_view_name": "HBoxView",
            "box_style": "",
            "children": [
              "IPY_MODEL_f5b82da8f785405283a035777920a1d1",
              "IPY_MODEL_37b34adb981c4a318ab1eba1a0ec03eb",
              "IPY_MODEL_d23d42a980d246d3a8790891396aae94"
            ],
            "layout": "IPY_MODEL_b168d734f09d440eb20497538bc5c783"
          }
        },
        "f5b82da8f785405283a035777920a1d1": {
          "model_module": "@jupyter-widgets/controls",
          "model_name": "HTMLModel",
          "model_module_version": "1.5.0",
          "state": {
            "_dom_classes": [],
            "_model_module": "@jupyter-widgets/controls",
            "_model_module_version": "1.5.0",
            "_model_name": "HTMLModel",
            "_view_count": null,
            "_view_module": "@jupyter-widgets/controls",
            "_view_module_version": "1.5.0",
            "_view_name": "HTMLView",
            "description": "",
            "description_tooltip": null,
            "layout": "IPY_MODEL_93e680a86a7145bcb993c6c13351ac40",
            "placeholder": "​",
            "style": "IPY_MODEL_188ec3ee39f345c8b2a3094fff045286",
            "value": "model.safetensors: 100%"
          }
        },
        "37b34adb981c4a318ab1eba1a0ec03eb": {
          "model_module": "@jupyter-widgets/controls",
          "model_name": "FloatProgressModel",
          "model_module_version": "1.5.0",
          "state": {
            "_dom_classes": [],
            "_model_module": "@jupyter-widgets/controls",
            "_model_module_version": "1.5.0",
            "_model_name": "FloatProgressModel",
            "_view_count": null,
            "_view_module": "@jupyter-widgets/controls",
            "_view_module_version": "1.5.0",
            "_view_name": "ProgressView",
            "bar_style": "success",
            "description": "",
            "description_tooltip": null,
            "layout": "IPY_MODEL_24837ce8aa254437ad9cd055a2fdb289",
            "max": 336396808,
            "min": 0,
            "orientation": "horizontal",
            "style": "IPY_MODEL_1d3875b0f9e04c31b36249b6d7435e97",
            "value": 336396808
          }
        },
        "d23d42a980d246d3a8790891396aae94": {
          "model_module": "@jupyter-widgets/controls",
          "model_name": "HTMLModel",
          "model_module_version": "1.5.0",
          "state": {
            "_dom_classes": [],
            "_model_module": "@jupyter-widgets/controls",
            "_model_module_version": "1.5.0",
            "_model_name": "HTMLModel",
            "_view_count": null,
            "_view_module": "@jupyter-widgets/controls",
            "_view_module_version": "1.5.0",
            "_view_name": "HTMLView",
            "description": "",
            "description_tooltip": null,
            "layout": "IPY_MODEL_01f89d6a2f8742518ee44e3dd5f032c3",
            "placeholder": "​",
            "style": "IPY_MODEL_13bc64b752fa45fdae55a9d4367e1bc4",
            "value": " 336M/336M [00:02&lt;00:00, 187MB/s]"
          }
        },
        "b168d734f09d440eb20497538bc5c783": {
          "model_module": "@jupyter-widgets/base",
          "model_name": "LayoutModel",
          "model_module_version": "1.2.0",
          "state": {
            "_model_module": "@jupyter-widgets/base",
            "_model_module_version": "1.2.0",
            "_model_name": "LayoutModel",
            "_view_count": null,
            "_view_module": "@jupyter-widgets/base",
            "_view_module_version": "1.2.0",
            "_view_name": "LayoutView",
            "align_content": null,
            "align_items": null,
            "align_self": null,
            "border": null,
            "bottom": null,
            "display": null,
            "flex": null,
            "flex_flow": null,
            "grid_area": null,
            "grid_auto_columns": null,
            "grid_auto_flow": null,
            "grid_auto_rows": null,
            "grid_column": null,
            "grid_gap": null,
            "grid_row": null,
            "grid_template_areas": null,
            "grid_template_columns": null,
            "grid_template_rows": null,
            "height": null,
            "justify_content": null,
            "justify_items": null,
            "left": null,
            "margin": null,
            "max_height": null,
            "max_width": null,
            "min_height": null,
            "min_width": null,
            "object_fit": null,
            "object_position": null,
            "order": null,
            "overflow": null,
            "overflow_x": null,
            "overflow_y": null,
            "padding": null,
            "right": null,
            "top": null,
            "visibility": null,
            "width": null
          }
        },
        "93e680a86a7145bcb993c6c13351ac40": {
          "model_module": "@jupyter-widgets/base",
          "model_name": "LayoutModel",
          "model_module_version": "1.2.0",
          "state": {
            "_model_module": "@jupyter-widgets/base",
            "_model_module_version": "1.2.0",
            "_model_name": "LayoutModel",
            "_view_count": null,
            "_view_module": "@jupyter-widgets/base",
            "_view_module_version": "1.2.0",
            "_view_name": "LayoutView",
            "align_content": null,
            "align_items": null,
            "align_self": null,
            "border": null,
            "bottom": null,
            "display": null,
            "flex": null,
            "flex_flow": null,
            "grid_area": null,
            "grid_auto_columns": null,
            "grid_auto_flow": null,
            "grid_auto_rows": null,
            "grid_column": null,
            "grid_gap": null,
            "grid_row": null,
            "grid_template_areas": null,
            "grid_template_columns": null,
            "grid_template_rows": null,
            "height": null,
            "justify_content": null,
            "justify_items": null,
            "left": null,
            "margin": null,
            "max_height": null,
            "max_width": null,
            "min_height": null,
            "min_width": null,
            "object_fit": null,
            "object_position": null,
            "order": null,
            "overflow": null,
            "overflow_x": null,
            "overflow_y": null,
            "padding": null,
            "right": null,
            "top": null,
            "visibility": null,
            "width": null
          }
        },
        "188ec3ee39f345c8b2a3094fff045286": {
          "model_module": "@jupyter-widgets/controls",
          "model_name": "DescriptionStyleModel",
          "model_module_version": "1.5.0",
          "state": {
            "_model_module": "@jupyter-widgets/controls",
            "_model_module_version": "1.5.0",
            "_model_name": "DescriptionStyleModel",
            "_view_count": null,
            "_view_module": "@jupyter-widgets/base",
            "_view_module_version": "1.2.0",
            "_view_name": "StyleView",
            "description_width": ""
          }
        },
        "24837ce8aa254437ad9cd055a2fdb289": {
          "model_module": "@jupyter-widgets/base",
          "model_name": "LayoutModel",
          "model_module_version": "1.2.0",
          "state": {
            "_model_module": "@jupyter-widgets/base",
            "_model_module_version": "1.2.0",
            "_model_name": "LayoutModel",
            "_view_count": null,
            "_view_module": "@jupyter-widgets/base",
            "_view_module_version": "1.2.0",
            "_view_name": "LayoutView",
            "align_content": null,
            "align_items": null,
            "align_self": null,
            "border": null,
            "bottom": null,
            "display": null,
            "flex": null,
            "flex_flow": null,
            "grid_area": null,
            "grid_auto_columns": null,
            "grid_auto_flow": null,
            "grid_auto_rows": null,
            "grid_column": null,
            "grid_gap": null,
            "grid_row": null,
            "grid_template_areas": null,
            "grid_template_columns": null,
            "grid_template_rows": null,
            "height": null,
            "justify_content": null,
            "justify_items": null,
            "left": null,
            "margin": null,
            "max_height": null,
            "max_width": null,
            "min_height": null,
            "min_width": null,
            "object_fit": null,
            "object_position": null,
            "order": null,
            "overflow": null,
            "overflow_x": null,
            "overflow_y": null,
            "padding": null,
            "right": null,
            "top": null,
            "visibility": null,
            "width": null
          }
        },
        "1d3875b0f9e04c31b36249b6d7435e97": {
          "model_module": "@jupyter-widgets/controls",
          "model_name": "ProgressStyleModel",
          "model_module_version": "1.5.0",
          "state": {
            "_model_module": "@jupyter-widgets/controls",
            "_model_module_version": "1.5.0",
            "_model_name": "ProgressStyleModel",
            "_view_count": null,
            "_view_module": "@jupyter-widgets/base",
            "_view_module_version": "1.2.0",
            "_view_name": "StyleView",
            "bar_color": null,
            "description_width": ""
          }
        },
        "01f89d6a2f8742518ee44e3dd5f032c3": {
          "model_module": "@jupyter-widgets/base",
          "model_name": "LayoutModel",
          "model_module_version": "1.2.0",
          "state": {
            "_model_module": "@jupyter-widgets/base",
            "_model_module_version": "1.2.0",
            "_model_name": "LayoutModel",
            "_view_count": null,
            "_view_module": "@jupyter-widgets/base",
            "_view_module_version": "1.2.0",
            "_view_name": "LayoutView",
            "align_content": null,
            "align_items": null,
            "align_self": null,
            "border": null,
            "bottom": null,
            "display": null,
            "flex": null,
            "flex_flow": null,
            "grid_area": null,
            "grid_auto_columns": null,
            "grid_auto_flow": null,
            "grid_auto_rows": null,
            "grid_column": null,
            "grid_gap": null,
            "grid_row": null,
            "grid_template_areas": null,
            "grid_template_columns": null,
            "grid_template_rows": null,
            "height": null,
            "justify_content": null,
            "justify_items": null,
            "left": null,
            "margin": null,
            "max_height": null,
            "max_width": null,
            "min_height": null,
            "min_width": null,
            "object_fit": null,
            "object_position": null,
            "order": null,
            "overflow": null,
            "overflow_x": null,
            "overflow_y": null,
            "padding": null,
            "right": null,
            "top": null,
            "visibility": null,
            "width": null
          }
        },
        "13bc64b752fa45fdae55a9d4367e1bc4": {
          "model_module": "@jupyter-widgets/controls",
          "model_name": "DescriptionStyleModel",
          "model_module_version": "1.5.0",
          "state": {
            "_model_module": "@jupyter-widgets/controls",
            "_model_module_version": "1.5.0",
            "_model_name": "DescriptionStyleModel",
            "_view_count": null,
            "_view_module": "@jupyter-widgets/base",
            "_view_module_version": "1.2.0",
            "_view_name": "StyleView",
            "description_width": ""
          }
        }
      }
    }
  },
  "cells": [
    {
      "cell_type": "markdown",
      "source": [
        "# HW3"
      ],
      "metadata": {
        "id": "fJEdHtJxVSmj"
      }
    },
    {
      "cell_type": "markdown",
      "source": [
        "Task: Develop a Named Entity Recognition (NER) tool based on BERT model."
      ],
      "metadata": {
        "id": "B9qvSWlsWQbe"
      }
    },
    {
      "cell_type": "markdown",
      "source": [
        "We download the libraries we need"
      ],
      "metadata": {
        "id": "CA3xHWSlWZCL"
      }
    },
    {
      "cell_type": "code",
      "source": [
        "!pip install transformers datasets seqeval -q"
      ],
      "metadata": {
        "id": "lQMauTfE2X9d",
        "colab": {
          "base_uri": "https://localhost:8080/"
        },
        "collapsed": true,
        "outputId": "37c31ffa-ab3c-4762-8455-8a21ebfdbb58"
      },
      "execution_count": 1,
      "outputs": [
        {
          "output_type": "stream",
          "name": "stdout",
          "text": [
            "\u001b[?25l     \u001b[90m━━━━━━━━━━━━━━━━━━━━━━━━━━━━━━━━━━━━━━━━\u001b[0m \u001b[32m0.0/43.6 kB\u001b[0m \u001b[31m?\u001b[0m eta \u001b[36m-:--:--\u001b[0m\r\u001b[2K     \u001b[90m━━━━━━━━━━━━━━━━━━━━━━━━━━━━━━━━━━━━━━━━\u001b[0m \u001b[32m43.6/43.6 kB\u001b[0m \u001b[31m2.8 MB/s\u001b[0m eta \u001b[36m0:00:00\u001b[0m\n",
            "\u001b[?25h  Preparing metadata (setup.py) ... \u001b[?25l\u001b[?25hdone\n",
            "\u001b[2K   \u001b[90m━━━━━━━━━━━━━━━━━━━━━━━━━━━━━━━━━━━━━━━━\u001b[0m \u001b[32m491.2/491.2 kB\u001b[0m \u001b[31m17.3 MB/s\u001b[0m eta \u001b[36m0:00:00\u001b[0m\n",
            "\u001b[2K   \u001b[90m━━━━━━━━━━━━━━━━━━━━━━━━━━━━━━━━━━━━━━━━\u001b[0m \u001b[32m116.3/116.3 kB\u001b[0m \u001b[31m11.0 MB/s\u001b[0m eta \u001b[36m0:00:00\u001b[0m\n",
            "\u001b[2K   \u001b[90m━━━━━━━━━━━━━━━━━━━━━━━━━━━━━━━━━━━━━━━━\u001b[0m \u001b[32m183.9/183.9 kB\u001b[0m \u001b[31m17.4 MB/s\u001b[0m eta \u001b[36m0:00:00\u001b[0m\n",
            "\u001b[2K   \u001b[90m━━━━━━━━━━━━━━━━━━━━━━━━━━━━━━━━━━━━━━━━\u001b[0m \u001b[32m143.5/143.5 kB\u001b[0m \u001b[31m12.5 MB/s\u001b[0m eta \u001b[36m0:00:00\u001b[0m\n",
            "\u001b[2K   \u001b[90m━━━━━━━━━━━━━━━━━━━━━━━━━━━━━━━━━━━━━━━━\u001b[0m \u001b[32m194.8/194.8 kB\u001b[0m \u001b[31m17.9 MB/s\u001b[0m eta \u001b[36m0:00:00\u001b[0m\n",
            "\u001b[?25h  Building wheel for seqeval (setup.py) ... \u001b[?25l\u001b[?25hdone\n",
            "\u001b[31mERROR: pip's dependency resolver does not currently take into account all the packages that are installed. This behaviour is the source of the following dependency conflicts.\n",
            "torch 2.6.0+cu124 requires nvidia-cublas-cu12==12.4.5.8; platform_system == \"Linux\" and platform_machine == \"x86_64\", but you have nvidia-cublas-cu12 12.5.3.2 which is incompatible.\n",
            "torch 2.6.0+cu124 requires nvidia-cuda-cupti-cu12==12.4.127; platform_system == \"Linux\" and platform_machine == \"x86_64\", but you have nvidia-cuda-cupti-cu12 12.5.82 which is incompatible.\n",
            "torch 2.6.0+cu124 requires nvidia-cuda-nvrtc-cu12==12.4.127; platform_system == \"Linux\" and platform_machine == \"x86_64\", but you have nvidia-cuda-nvrtc-cu12 12.5.82 which is incompatible.\n",
            "torch 2.6.0+cu124 requires nvidia-cuda-runtime-cu12==12.4.127; platform_system == \"Linux\" and platform_machine == \"x86_64\", but you have nvidia-cuda-runtime-cu12 12.5.82 which is incompatible.\n",
            "torch 2.6.0+cu124 requires nvidia-cudnn-cu12==9.1.0.70; platform_system == \"Linux\" and platform_machine == \"x86_64\", but you have nvidia-cudnn-cu12 9.3.0.75 which is incompatible.\n",
            "torch 2.6.0+cu124 requires nvidia-cufft-cu12==11.2.1.3; platform_system == \"Linux\" and platform_machine == \"x86_64\", but you have nvidia-cufft-cu12 11.2.3.61 which is incompatible.\n",
            "torch 2.6.0+cu124 requires nvidia-curand-cu12==10.3.5.147; platform_system == \"Linux\" and platform_machine == \"x86_64\", but you have nvidia-curand-cu12 10.3.6.82 which is incompatible.\n",
            "torch 2.6.0+cu124 requires nvidia-cusolver-cu12==11.6.1.9; platform_system == \"Linux\" and platform_machine == \"x86_64\", but you have nvidia-cusolver-cu12 11.6.3.83 which is incompatible.\n",
            "torch 2.6.0+cu124 requires nvidia-cusparse-cu12==12.3.1.170; platform_system == \"Linux\" and platform_machine == \"x86_64\", but you have nvidia-cusparse-cu12 12.5.1.3 which is incompatible.\n",
            "torch 2.6.0+cu124 requires nvidia-nvjitlink-cu12==12.4.127; platform_system == \"Linux\" and platform_machine == \"x86_64\", but you have nvidia-nvjitlink-cu12 12.5.82 which is incompatible.\n",
            "gcsfs 2025.3.2 requires fsspec==2025.3.2, but you have fsspec 2024.12.0 which is incompatible.\u001b[0m\u001b[31m\n",
            "\u001b[0m"
          ]
        }
      ]
    },
    {
      "cell_type": "markdown",
      "source": [
        "We call ou libraries"
      ],
      "metadata": {
        "id": "-O7VKhC-Ye3n"
      }
    },
    {
      "cell_type": "code",
      "source": [
        "import torch\n",
        "import torch.nn as nn\n",
        "import numpy as np\n",
        "\n",
        "from torch.utils.data import Dataset, DataLoader\n",
        "from transformers import AutoTokenizer, AutoModel, get_scheduler\n",
        "from torch.optim import AdamW\n",
        "from transformers import get_scheduler #to create a learning rate scheduler\n",
        "from sklearn.metrics import classification_report #print precision, recall and f1-score\n",
        "from tqdm import tqdm #to track training progress\n",
        "\n",
        "\n",
        "from sklearn.utils.class_weight import compute_class_weight # to calculate the weight of weakly represented classes\n"
      ],
      "metadata": {
        "collapsed": true,
        "id": "142Z55-Qs78D"
      },
      "execution_count": 2,
      "outputs": []
    },
    {
      "cell_type": "markdown",
      "source": [
        "Loading data from .txt\n",
        "\n",
        "Extract tokkens and label\n"
      ],
      "metadata": {
        "id": "qxEQmx9XYeNo"
      }
    },
    {
      "cell_type": "code",
      "source": [
        "def read_ner_file(file_path):\n",
        "    with open(file_path, encoding=\"utf-8\") as f:\n",
        "        lines = f.readlines()\n",
        "\n",
        "    sentences, labels = [], []\n",
        "    tokens, tags = [], []\n",
        "\n",
        "    for line in lines:\n",
        "        line = line.strip()\n",
        "        if not line:\n",
        "            if tokens:\n",
        "                sentences.append(tokens)\n",
        "                labels.append(tags)\n",
        "                tokens, tags = [], []\n",
        "        else:\n",
        "            parts = line.split()\n",
        "            if len(parts) == 2:\n",
        "                word, tag = parts\n",
        "                tokens.append(word)\n",
        "                tags.append(tag)\n",
        "            else:\n",
        "                tokens.append(parts[0])\n",
        "                tags.append(\"O\")\n",
        "\n",
        "    return sentences, labels\n",
        "\n",
        "\n",
        "train_tokens, train_labels = read_ner_file(\"/content/train.txt\")\n",
        "valid_tokens, valid_labels = read_ner_file(\"/content/valid.txt\")\n",
        "test_tokens, test_labels = read_ner_file(\"/content/test.txt\")\n"
      ],
      "metadata": {
        "id": "b-1cxxZg24p_"
      },
      "execution_count": 3,
      "outputs": []
    },
    {
      "cell_type": "markdown",
      "source": [
        "Dataset preparation:\n",
        "\n",
        "We encode the tokens and labels with the SecBERT tokenizer.\n",
        "\n",
        "As a reminder, label2id and id2label are there to translate our classes into numbers and move from one to the other."
      ],
      "metadata": {
        "id": "jPQkgs7dnWLB"
      }
    },
    {
      "cell_type": "code",
      "source": [
        "model_name = \"jackaduma/SecBERT\" # I selected the first SecBERT model I found on huggingface: https://huggingface.co/jackaduma/SecBERT\n",
        "tokenizer = AutoTokenizer.from_pretrained(model_name)\n",
        "\n",
        "# label2id and id2label mappings\n",
        "unique_labels = set(label for seq in train_labels for label in seq)\n",
        "label2id = {label: idx for idx, label in enumerate(sorted(unique_labels))}\n",
        "id2label = {idx: label for label, idx in label2id.items()}\n",
        "\n",
        "#We show the labels to make sure they are not ugly and usable\n",
        "print(f\"{len(label2id)} labels : {label2id}\")\n"
      ],
      "metadata": {
        "colab": {
          "base_uri": "https://localhost:8080/",
          "height": 222,
          "referenced_widgets": [
            "e13264d6d2c14a2d9c3baa211cd7e68b",
            "0d593a24a3fb47e6b5f73e8fa7aa408c",
            "f038d53a20594ade808c1f9ea0741c38",
            "4755962e7b1044cb97a01bd93eefd712",
            "42f7aacc8283498787d5055018cb9398",
            "f9790436bf3947cba738fdeb39d09a28",
            "7d8adf3d60074fd59952840fb87a9a33",
            "683f50598aa2413e8e1ce74e4e6370f7",
            "522d981c98ec4b14a44f5b8afc42c6de",
            "0f6a953a9a454d2a819ed803c1cbf4f0",
            "ae0c00cf413d4ffea6d1b9eaae271cec",
            "e7d27e54fc8e415da03170324ea43ea8",
            "de8e3655f5304dfda84de8e84e0e5608",
            "5f3035d82ee44a1ca7eb37de45a2f425",
            "6854e1f13b1e4cd8b2ec11314e72056e",
            "81357e82f1494cdab6075396f8e8827e",
            "7b1acf0b890f4283a18c71f430d4a5eb",
            "948b8355812643f48e9f2abf81ad986b",
            "b8e24137c2d24929b508b7891b369b49",
            "e68b1c71ea3342ba8dbd956cba34f5af",
            "a3fd8fed50964b9ab24524a462a3cc7d",
            "0f251dfafdd042268c59e470a29365c1"
          ]
        },
        "id": "B97oLZQ63ckh",
        "outputId": "9c916089-883c-4c46-c1be-3caabf1a8f7a"
      },
      "execution_count": 4,
      "outputs": [
        {
          "output_type": "stream",
          "name": "stderr",
          "text": [
            "/usr/local/lib/python3.11/dist-packages/huggingface_hub/utils/_auth.py:94: UserWarning: \n",
            "The secret `HF_TOKEN` does not exist in your Colab secrets.\n",
            "To authenticate with the Hugging Face Hub, create a token in your settings tab (https://huggingface.co/settings/tokens), set it as secret in your Google Colab and restart your session.\n",
            "You will be able to reuse this secret in all of your notebooks.\n",
            "Please note that authentication is recommended but still optional to access public models or datasets.\n",
            "  warnings.warn(\n"
          ]
        },
        {
          "output_type": "display_data",
          "data": {
            "text/plain": [
              "config.json:   0%|          | 0.00/467 [00:00<?, ?B/s]"
            ],
            "application/vnd.jupyter.widget-view+json": {
              "version_major": 2,
              "version_minor": 0,
              "model_id": "e13264d6d2c14a2d9c3baa211cd7e68b"
            }
          },
          "metadata": {}
        },
        {
          "output_type": "display_data",
          "data": {
            "text/plain": [
              "vocab.txt:   0%|          | 0.00/378k [00:00<?, ?B/s]"
            ],
            "application/vnd.jupyter.widget-view+json": {
              "version_major": 2,
              "version_minor": 0,
              "model_id": "e7d27e54fc8e415da03170324ea43ea8"
            }
          },
          "metadata": {}
        },
        {
          "output_type": "stream",
          "name": "stdout",
          "text": [
            "27 labels : {'B-Area': 0, 'B-Exp': 1, 'B-Features': 2, 'B-HackOrg': 3, 'B-Idus': 4, 'B-OffAct': 5, 'B-Org': 6, 'B-Purp': 7, 'B-SamFile': 8, 'B-SecTeam': 9, 'B-Time': 10, 'B-Tool': 11, 'B-Way': 12, 'I-Area': 13, 'I-Exp': 14, 'I-Features': 15, 'I-HackOrg': 16, 'I-Idus': 17, 'I-OffAct': 18, 'I-Org': 19, 'I-Purp': 20, 'I-SamFile': 21, 'I-SecTeam': 22, 'I-Time': 23, 'I-Tool': 24, 'I-Way': 25, 'O': 26}\n"
          ]
        }
      ]
    },
    {
      "cell_type": "markdown",
      "source": [
        "Here I just count the number of elements per class"
      ],
      "metadata": {
        "id": "k7jfyCEUlhYj"
      }
    },
    {
      "cell_type": "code",
      "source": [
        "from collections import Counter\n",
        "import itertools\n",
        "\n",
        "flat_labels = list(itertools.chain(*train_labels))\n",
        "label_counts = Counter(flat_labels)\n",
        "print(label_counts)\n"
      ],
      "metadata": {
        "colab": {
          "base_uri": "https://localhost:8080/"
        },
        "id": "OU60R9DAImku",
        "outputId": "41ee2d70-e07b-4f23-a894-be902fe1f3ef"
      },
      "execution_count": 5,
      "outputs": [
        {
          "output_type": "stream",
          "name": "stdout",
          "text": [
            "Counter({'O': 110593, 'B-HackOrg': 3418, 'B-Tool': 2449, 'B-Area': 2171, 'B-OffAct': 1412, 'I-Tool': 1386, 'B-Idus': 1349, 'B-Time': 1328, 'I-Purp': 1230, 'B-SamFile': 1221, 'I-Features': 1178, 'B-Org': 1113, 'B-Exp': 1068, 'B-SecTeam': 997, 'I-HackOrg': 977, 'I-Org': 958, 'I-OffAct': 851, 'B-Way': 827, 'I-Area': 816, 'B-Features': 812, 'I-Time': 794, 'I-Way': 784, 'B-Purp': 720, 'I-SamFile': 556, 'I-Exp': 538, 'I-Idus': 482, 'I-SecTeam': 473})\n"
          ]
        }
      ]
    },
    {
      "cell_type": "markdown",
      "source": [
        "Some classes are very underrepresented compared to others. This is why it is necessary to penalize large and small classes differently.\n"
      ],
      "metadata": {
        "id": "oo43OBVKln5J"
      }
    },
    {
      "cell_type": "markdown",
      "source": [
        "# The model:\n",
        "\n",
        "Composed of 3 parts:\n",
        "\n",
        "-SecBERT\n",
        "\n",
        "-A bidirectional BiLSTM layer,\n",
        "\n",
        "-A linear classification layer."
      ],
      "metadata": {
        "id": "IFd6jSBTpqLX"
      }
    },
    {
      "cell_type": "code",
      "source": [
        "class NERDataset(Dataset):\n",
        "    def __init__(self, tokens, labels, tokenizer, label2id, max_len=128):\n",
        "        self.tokens = tokens\n",
        "        self.labels = labels\n",
        "        self.tokenizer = tokenizer\n",
        "        self.label2id = label2id\n",
        "        self.max_len = max_len\n",
        "\n",
        "    def __len__(self):\n",
        "        return len(self.tokens)\n",
        "\n",
        "    def __getitem__(self, idx):\n",
        "        words = self.tokens[idx]\n",
        "        tags = self.labels[idx]\n",
        "\n",
        "        encoding = self.tokenizer(\n",
        "            words,\n",
        "            is_split_into_words=True,\n",
        "            padding='max_length',\n",
        "            truncation=True,\n",
        "            max_length=self.max_len,\n",
        "            return_tensors=\"pt\"\n",
        "        )\n",
        "\n",
        "        labels = [-100] * encoding.input_ids.shape[1]\n",
        "        word_ids = encoding.word_ids(batch_index=0)\n",
        "\n",
        "        for i, word_idx in enumerate(word_ids):\n",
        "            if word_idx is not None:\n",
        "                labels[i] = label2id[tags[word_idx]]\n",
        "\n",
        "        return {\n",
        "            \"input_ids\": encoding.input_ids.squeeze(),\n",
        "            \"attention_mask\": encoding.attention_mask.squeeze(),\n",
        "            \"labels\": torch.tensor(labels)\n",
        "        }\n",
        "\n",
        "train_dataset = NERDataset(train_tokens, train_labels, tokenizer, label2id)\n",
        "valid_dataset = NERDataset(valid_tokens, valid_labels, tokenizer, label2id)\n",
        "test_dataset = NERDataset(test_tokens, test_labels, tokenizer, label2id)\n"
      ],
      "metadata": {
        "id": "Tmh2HVlC3pLH"
      },
      "execution_count": 6,
      "outputs": []
    },
    {
      "cell_type": "markdown",
      "source": [
        "Model Training :"
      ],
      "metadata": {
        "id": "z6jvEiMhqING"
      }
    },
    {
      "cell_type": "code",
      "source": [
        "class SecBERT_BiLSTM(nn.Module):\n",
        "    def __init__(self, model_name, num_labels, hidden_dim=256, dropout=0.3):\n",
        "        super(SecBERT_BiLSTM, self).__init__()\n",
        "        self.bert = AutoModel.from_pretrained(model_name)\n",
        "        self.bilstm = nn.LSTM(\n",
        "            input_size=self.bert.config.hidden_size,\n",
        "            hidden_size=hidden_dim,\n",
        "            num_layers=1,\n",
        "            bidirectional=True,\n",
        "            batch_first=True\n",
        "        )\n",
        "        self.dropout = nn.Dropout(dropout)\n",
        "        self.classifier = nn.Linear(hidden_dim * 2, num_labels)\n",
        "\n",
        "    def forward(self, input_ids, attention_mask, labels=None):\n",
        "        outputs = self.bert(input_ids=input_ids, attention_mask=attention_mask)\n",
        "        sequence_output = outputs.last_hidden_state\n",
        "\n",
        "        lstm_out, _ = self.bilstm(sequence_output)\n",
        "        lstm_out = self.dropout(lstm_out)\n",
        "        logits = self.classifier(lstm_out)\n",
        "\n",
        "        loss = None\n",
        "        if labels is not None:\n",
        "          # This is where classes are penalized differently depending on their number\n",
        "          all_labels_flat = [label2id[l] for seq in train_labels for l in seq]\n",
        "          class_weights = compute_class_weight('balanced', classes=np.array(list(label2id.values())), y=all_labels_flat)\n",
        "          class_weights = torch.tensor(np.sqrt(class_weights), dtype=torch.float).to(device)\n",
        "\n",
        "\n",
        "          loss_fct = nn.CrossEntropyLoss(weight=class_weights, ignore_index=-100)\n",
        "          loss = loss_fct(logits.view(-1, logits.shape[-1]), labels.view(-1))\n",
        "\n",
        "        return (loss, logits) if loss is not None else logits\n"
      ],
      "metadata": {
        "id": "yIK0lZ3X34jW"
      },
      "execution_count": 7,
      "outputs": []
    },
    {
      "cell_type": "markdown",
      "source": [
        "Evaluate the model at each Epoch to check how the model learns."
      ],
      "metadata": {
        "id": "Po-64aCBqSs3"
      }
    },
    {
      "cell_type": "code",
      "source": [
        "device = torch.device(\"cuda\" if torch.cuda.is_available() else \"cpu\")\n",
        "model = SecBERT_BiLSTM(model_name, num_labels=len(label2id)).to(device)\n",
        "\n",
        "train_loader = DataLoader(train_dataset, batch_size=8, shuffle=True)\n",
        "valid_loader = DataLoader(valid_dataset, batch_size=8)\n",
        "\n",
        "optimizer = AdamW(model.parameters(), lr=2e-5)\n",
        "num_epochs = 5\n",
        "\n",
        "scheduler = get_scheduler(\n",
        "    \"linear\",\n",
        "    optimizer=optimizer,\n",
        "    num_warmup_steps=0,\n",
        "    num_training_steps=len(train_loader) * num_epochs,\n",
        ")\n",
        "\n",
        "for epoch in range(num_epochs):\n",
        "    model.train()\n",
        "    total_loss = 0\n",
        "    for batch in tqdm(train_loader, desc=f\"Epoch {epoch+1}\"):\n",
        "        batch = {k: v.to(device) for k, v in batch.items()}\n",
        "        loss, _ = model(**batch)\n",
        "\n",
        "        loss.backward()\n",
        "        optimizer.step()\n",
        "        scheduler.step()\n",
        "        optimizer.zero_grad()\n",
        "        total_loss += loss.item()\n",
        "\n",
        "    print(f\"Epoch {epoch+1} loss: {total_loss:.4f}\")\n",
        "\n",
        "    # model evaluation\n",
        "    model.eval()\n",
        "    all_preds, all_labels = [], []\n",
        "    with torch.no_grad():\n",
        "        for batch in valid_loader:\n",
        "            input_ids = batch[\"input_ids\"].to(device)\n",
        "            attention_mask = batch[\"attention_mask\"].to(device)\n",
        "            labels = batch[\"labels\"].to(device)\n",
        "\n",
        "            outputs = model(input_ids=input_ids, attention_mask=attention_mask)\n",
        "            logits = outputs if isinstance(outputs, torch.Tensor) else outputs[1]\n",
        "\n",
        "            predictions = torch.argmax(logits, dim=-1)\n",
        "\n",
        "            for i in range(labels.shape[0]):\n",
        "                true = labels[i]\n",
        "                pred = predictions[i]\n",
        "                for t, p in zip(true, pred):\n",
        "                    if t != -100:\n",
        "                        all_labels.append(id2label[t.item()])\n",
        "                        all_preds.append(id2label[p.item()])\n",
        "\n",
        "    print(classification_report(all_labels, all_preds, digits=4))\n"
      ],
      "metadata": {
        "colab": {
          "base_uri": "https://localhost:8080/",
          "height": 1000,
          "referenced_widgets": [
            "e8ba8586b0344b038552e175666c715a",
            "f5b82da8f785405283a035777920a1d1",
            "37b34adb981c4a318ab1eba1a0ec03eb",
            "d23d42a980d246d3a8790891396aae94",
            "b168d734f09d440eb20497538bc5c783",
            "93e680a86a7145bcb993c6c13351ac40",
            "188ec3ee39f345c8b2a3094fff045286",
            "24837ce8aa254437ad9cd055a2fdb289",
            "1d3875b0f9e04c31b36249b6d7435e97",
            "01f89d6a2f8742518ee44e3dd5f032c3",
            "13bc64b752fa45fdae55a9d4367e1bc4"
          ]
        },
        "id": "VXviezfT37RC",
        "outputId": "9824bcdb-e815-4724-ebfe-8b404baa516c"
      },
      "execution_count": 8,
      "outputs": [
        {
          "output_type": "display_data",
          "data": {
            "text/plain": [
              "model.safetensors:   0%|          | 0.00/336M [00:00<?, ?B/s]"
            ],
            "application/vnd.jupyter.widget-view+json": {
              "version_major": 2,
              "version_minor": 0,
              "model_id": "e8ba8586b0344b038552e175666c715a"
            }
          },
          "metadata": {}
        },
        {
          "output_type": "stream",
          "name": "stderr",
          "text": [
            "Epoch 1: 100%|██████████| 657/657 [01:16<00:00,  8.54it/s]\n"
          ]
        },
        {
          "output_type": "stream",
          "name": "stdout",
          "text": [
            "Epoch 1 loss: 1128.8474\n",
            "              precision    recall  f1-score   support\n",
            "\n",
            "      B-Area     0.5768    0.8580    0.6898       162\n",
            "       B-Exp     0.8525    0.9813    0.9124       589\n",
            "  B-Features     0.5138    0.5657    0.5385        99\n",
            "   B-HackOrg     0.5166    0.7513    0.6122       599\n",
            "      B-Idus     0.2865    0.8966    0.4342       116\n",
            "    B-OffAct     0.3241    0.5833    0.4167       120\n",
            "       B-Org     0.4286    0.0923    0.1519       130\n",
            "      B-Purp     0.4000    0.3218    0.3567        87\n",
            "   B-SamFile     0.4457    0.7229    0.5514       397\n",
            "   B-SecTeam     0.5477    0.7110    0.6188       218\n",
            "      B-Time     0.6434    0.8058    0.7155       206\n",
            "      B-Tool     0.3936    0.5032    0.4417       467\n",
            "       B-Way     0.4759    0.6371    0.5448       124\n",
            "      I-Area     0.4884    0.8400    0.6176        50\n",
            "       I-Exp     0.3285    1.0000    0.4945        45\n",
            "  I-Features     0.3476    0.6842    0.4610        95\n",
            "   I-HackOrg     0.3178    0.4870    0.3846       154\n",
            "      I-Idus     0.1739    0.1081    0.1333        37\n",
            "    I-OffAct     0.2826    0.5735    0.3786        68\n",
            "       I-Org     0.2716    0.6111    0.3761        72\n",
            "      I-Purp     0.2456    0.6241    0.3524       133\n",
            "   I-SamFile     0.5636    0.6739    0.6139        92\n",
            "   I-SecTeam     0.4276    0.8267    0.5636        75\n",
            "      I-Time     0.5139    0.8409    0.6379        88\n",
            "      I-Tool     0.3540    0.4678    0.4030       171\n",
            "       I-Way     0.3492    0.4074    0.3761       108\n",
            "           O     0.9655    0.8326    0.8942     15110\n",
            "\n",
            "    accuracy                         0.7984     19612\n",
            "   macro avg     0.4457    0.6447    0.5064     19612\n",
            "weighted avg     0.8569    0.7984    0.8174     19612\n",
            "\n"
          ]
        },
        {
          "output_type": "stream",
          "name": "stderr",
          "text": [
            "Epoch 2: 100%|██████████| 657/657 [01:17<00:00,  8.52it/s]\n"
          ]
        },
        {
          "output_type": "stream",
          "name": "stdout",
          "text": [
            "Epoch 2 loss: 501.3032\n",
            "              precision    recall  f1-score   support\n",
            "\n",
            "      B-Area     0.7115    0.9136    0.8000       162\n",
            "       B-Exp     0.8947    0.9813    0.9360       589\n",
            "  B-Features     0.5455    0.9091    0.6818        99\n",
            "   B-HackOrg     0.5444    0.8497    0.6636       599\n",
            "      B-Idus     0.6222    0.7241    0.6693       116\n",
            "    B-OffAct     0.3932    0.6750    0.4969       120\n",
            "       B-Org     0.3651    0.5308    0.4326       130\n",
            "      B-Purp     0.3163    0.7126    0.4382        87\n",
            "   B-SamFile     0.6038    0.7985    0.6876       397\n",
            "   B-SecTeam     0.6392    0.7477    0.6892       218\n",
            "      B-Time     0.6992    0.8689    0.7749       206\n",
            "      B-Tool     0.4815    0.6124    0.5391       467\n",
            "       B-Way     0.6069    0.7097    0.6543       124\n",
            "      I-Area     0.5000    0.9000    0.6429        50\n",
            "       I-Exp     0.5556    1.0000    0.7143        45\n",
            "  I-Features     0.4314    0.9263    0.5886        95\n",
            "   I-HackOrg     0.3773    0.6688    0.4824       154\n",
            "      I-Idus     0.4286    0.7297    0.5400        37\n",
            "    I-OffAct     0.4432    0.5735    0.5000        68\n",
            "       I-Org     0.3125    0.6944    0.4310        72\n",
            "      I-Purp     0.3140    0.7744    0.4469       133\n",
            "   I-SamFile     0.5704    0.8370    0.6784        92\n",
            "   I-SecTeam     0.5152    0.9067    0.6570        75\n",
            "      I-Time     0.5917    0.8068    0.6827        88\n",
            "      I-Tool     0.3488    0.7018    0.4660       171\n",
            "       I-Way     0.4762    0.6481    0.5490       108\n",
            "           O     0.9798    0.8424    0.9059     15110\n",
            "\n",
            "    accuracy                         0.8306     19612\n",
            "   macro avg     0.5284    0.7794    0.6203     19612\n",
            "weighted avg     0.8851    0.8306    0.8480     19612\n",
            "\n"
          ]
        },
        {
          "output_type": "stream",
          "name": "stderr",
          "text": [
            "Epoch 3: 100%|██████████| 657/657 [01:16<00:00,  8.55it/s]\n"
          ]
        },
        {
          "output_type": "stream",
          "name": "stdout",
          "text": [
            "Epoch 3 loss: 316.1719\n",
            "              precision    recall  f1-score   support\n",
            "\n",
            "      B-Area     0.7353    0.9259    0.8197       162\n",
            "       B-Exp     0.9107    0.9864    0.9470       589\n",
            "  B-Features     0.5497    0.9495    0.6963        99\n",
            "   B-HackOrg     0.5616    0.8598    0.6794       599\n",
            "      B-Idus     0.6620    0.8103    0.7287       116\n",
            "    B-OffAct     0.3700    0.7000    0.4841       120\n",
            "       B-Org     0.4671    0.5462    0.5035       130\n",
            "      B-Purp     0.3013    0.7931    0.4367        87\n",
            "   B-SamFile     0.7224    0.7733    0.7470       397\n",
            "   B-SecTeam     0.7106    0.7661    0.7373       218\n",
            "      B-Time     0.7595    0.8738    0.8126       206\n",
            "      B-Tool     0.4554    0.7537    0.5677       467\n",
            "       B-Way     0.5238    0.7984    0.6326       124\n",
            "      I-Area     0.4639    0.9000    0.6122        50\n",
            "       I-Exp     0.6250    1.0000    0.7692        45\n",
            "  I-Features     0.4034    0.9895    0.5732        95\n",
            "   I-HackOrg     0.3889    0.7273    0.5068       154\n",
            "      I-Idus     0.4211    0.8649    0.5664        37\n",
            "    I-OffAct     0.3306    0.6029    0.4271        68\n",
            "       I-Org     0.3723    0.7083    0.4880        72\n",
            "      I-Purp     0.3371    0.8872    0.4886       133\n",
            "   I-SamFile     0.6260    0.8913    0.7354        92\n",
            "   I-SecTeam     0.5581    0.9600    0.7059        75\n",
            "      I-Time     0.5923    0.8750    0.7064        88\n",
            "      I-Tool     0.3769    0.7076    0.4919       171\n",
            "       I-Way     0.4545    0.7870    0.5763       108\n",
            "           O     0.9856    0.8348    0.9040     15110\n",
            "\n",
            "    accuracy                         0.8338     19612\n",
            "   macro avg     0.5432    0.8249    0.6424     19612\n",
            "weighted avg     0.8947    0.8338    0.8524     19612\n",
            "\n"
          ]
        },
        {
          "output_type": "stream",
          "name": "stderr",
          "text": [
            "Epoch 4: 100%|██████████| 657/657 [01:16<00:00,  8.56it/s]\n"
          ]
        },
        {
          "output_type": "stream",
          "name": "stdout",
          "text": [
            "Epoch 4 loss: 231.8395\n",
            "              precision    recall  f1-score   support\n",
            "\n",
            "      B-Area     0.7238    0.9383    0.8172       162\n",
            "       B-Exp     0.9121    0.9864    0.9478       589\n",
            "  B-Features     0.6065    0.9495    0.7402        99\n",
            "   B-HackOrg     0.5862    0.8681    0.6999       599\n",
            "      B-Idus     0.6182    0.8793    0.7260       116\n",
            "    B-OffAct     0.4372    0.7250    0.5455       120\n",
            "       B-Org     0.5070    0.5538    0.5294       130\n",
            "      B-Purp     0.3393    0.8736    0.4887        87\n",
            "   B-SamFile     0.6157    0.8715    0.7216       397\n",
            "   B-SecTeam     0.7857    0.7569    0.7710       218\n",
            "      B-Time     0.7788    0.8544    0.8148       206\n",
            "      B-Tool     0.5096    0.6852    0.5845       467\n",
            "       B-Way     0.5722    0.8306    0.6776       124\n",
            "      I-Area     0.4839    0.9000    0.6294        50\n",
            "       I-Exp     0.6250    1.0000    0.7692        45\n",
            "  I-Features     0.4519    0.9895    0.6205        95\n",
            "   I-HackOrg     0.4167    0.7143    0.5263       154\n",
            "      I-Idus     0.4177    0.8919    0.5690        37\n",
            "    I-OffAct     0.4149    0.5735    0.4815        68\n",
            "       I-Org     0.4554    0.7083    0.5543        72\n",
            "      I-Purp     0.3520    0.9474    0.5132       133\n",
            "   I-SamFile     0.5600    0.9130    0.6942        92\n",
            "   I-SecTeam     0.5902    0.9600    0.7310        75\n",
            "      I-Time     0.5714    0.9091    0.7018        88\n",
            "      I-Tool     0.4559    0.6959    0.5509       171\n",
            "       I-Way     0.5460    0.8241    0.6568       108\n",
            "           O     0.9848    0.8519    0.9135     15110\n",
            "\n",
            "    accuracy                         0.8491     19612\n",
            "   macro avg     0.5673    0.8389    0.6658     19612\n",
            "weighted avg     0.8982    0.8491    0.8638     19612\n",
            "\n"
          ]
        },
        {
          "output_type": "stream",
          "name": "stderr",
          "text": [
            "Epoch 5: 100%|██████████| 657/657 [01:16<00:00,  8.56it/s]\n"
          ]
        },
        {
          "output_type": "stream",
          "name": "stdout",
          "text": [
            "Epoch 5 loss: 194.0070\n",
            "              precision    recall  f1-score   support\n",
            "\n",
            "      B-Area     0.7600    0.9383    0.8398       162\n",
            "       B-Exp     0.9179    0.9864    0.9509       589\n",
            "  B-Features     0.6139    0.9798    0.7549        99\n",
            "   B-HackOrg     0.5991    0.8731    0.7106       599\n",
            "      B-Idus     0.7063    0.8707    0.7799       116\n",
            "    B-OffAct     0.4508    0.7250    0.5559       120\n",
            "       B-Org     0.5200    0.6000    0.5571       130\n",
            "      B-Purp     0.3585    0.8736    0.5084        87\n",
            "   B-SamFile     0.6413    0.8690    0.7380       397\n",
            "   B-SecTeam     0.8000    0.7523    0.7754       218\n",
            "      B-Time     0.7729    0.8592    0.8138       206\n",
            "      B-Tool     0.5129    0.6809    0.5851       467\n",
            "       B-Way     0.5492    0.8548    0.6688       124\n",
            "      I-Area     0.4839    0.9000    0.6294        50\n",
            "       I-Exp     0.6164    1.0000    0.7627        45\n",
            "  I-Features     0.4563    0.9895    0.6246        95\n",
            "   I-HackOrg     0.4264    0.7143    0.5340       154\n",
            "      I-Idus     0.4342    0.8919    0.5841        37\n",
            "    I-OffAct     0.4062    0.5735    0.4756        68\n",
            "       I-Org     0.4513    0.7083    0.5514        72\n",
            "      I-Purp     0.3830    0.9474    0.5455       133\n",
            "   I-SamFile     0.5986    0.9239    0.7265        92\n",
            "   I-SecTeam     0.5966    0.9467    0.7320        75\n",
            "      I-Time     0.6077    0.8977    0.7248        88\n",
            "      I-Tool     0.4436    0.7135    0.5471       171\n",
            "       I-Way     0.5298    0.8241    0.6449       108\n",
            "           O     0.9845    0.8592    0.9176     15110\n",
            "\n",
            "    accuracy                         0.8554     19612\n",
            "   macro avg     0.5786    0.8427    0.6755     19612\n",
            "weighted avg     0.9007    0.8554    0.8690     19612\n",
            "\n"
          ]
        }
      ]
    },
    {
      "cell_type": "markdown",
      "source": [
        "Predictions on test dataset"
      ],
      "metadata": {
        "id": "b1wv_yiwqoJQ"
      }
    },
    {
      "cell_type": "code",
      "source": [
        "test_loader = DataLoader(test_dataset, batch_size=8)\n",
        "\n",
        "model.eval()\n",
        "all_test_preds = []\n",
        "\n",
        "with torch.no_grad():\n",
        "    for batch in tqdm(test_loader, desc=\"Testing\"):\n",
        "        input_ids = batch[\"input_ids\"].to(device)\n",
        "        attention_mask = batch[\"attention_mask\"].to(device)\n",
        "\n",
        "        logits = model(input_ids=input_ids, attention_mask=attention_mask)\n",
        "        logits = logits if isinstance(logits, torch.Tensor) else logits[1]\n",
        "        predictions = torch.argmax(logits, dim=-1)\n",
        "\n",
        "        for pred, mask in zip(predictions, batch[\"attention_mask\"]):\n",
        "            tokens_pred = []\n",
        "            for p, m in zip(pred, mask):\n",
        "                if m == 1:\n",
        "                    tokens_pred.append(id2label[p.item()])\n",
        "            all_test_preds.append(tokens_pred)\n"
      ],
      "metadata": {
        "colab": {
          "base_uri": "https://localhost:8080/"
        },
        "id": "x8cfPt6b42DD",
        "outputId": "6f094095-bd99-4bd0-879e-fa2df3ff5277"
      },
      "execution_count": 9,
      "outputs": [
        {
          "output_type": "stream",
          "name": "stderr",
          "text": [
            "Testing: 100%|██████████| 83/83 [00:03<00:00, 24.04it/s]\n"
          ]
        }
      ]
    },
    {
      "cell_type": "markdown",
      "source": [
        "Exporting predictions"
      ],
      "metadata": {
        "id": "EsDlDRDDqv7J"
      }
    },
    {
      "cell_type": "code",
      "source": [
        "input_test_file = \"/content/test.txt\"\n",
        "output_prediction_file = \"test_predictions.txt\"\n",
        "\n",
        "with open(input_test_file, \"r\", encoding=\"utf-8\") as f:\n",
        "    test_lines = f.readlines()\n",
        "\n",
        "with open(output_prediction_file, \"w\", encoding=\"utf-8\") as f:\n",
        "    pred_idx = 0\n",
        "    for line in test_lines:\n",
        "        line = line.strip()\n",
        "        if line == \"\":\n",
        "            f.write(\"\\n\")\n",
        "        else:\n",
        "            token = line.split()[0]\n",
        "            if len(all_test_preds) > 0 and len(all_test_preds[-1]) == 0:\n",
        "              all_test_preds = all_test_preds[:-1]\n",
        "\n",
        "            flat_preds = [label for sent in all_test_preds for label in sent]\n",
        "            label = flat_preds[pred_idx] if pred_idx < len(flat_preds) else \"O\"\n",
        "\n",
        "            f.write(f\"{token} {label}\\n\")\n",
        "            pred_idx += 1\n",
        "\n",
        "print(f\" file completed : {output_prediction_file}\")\n"
      ],
      "metadata": {
        "colab": {
          "base_uri": "https://localhost:8080/"
        },
        "id": "kLFJ6ANd8QGu",
        "outputId": "7e36a38c-ab04-490c-cb45-2488426c710a"
      },
      "execution_count": 10,
      "outputs": [
        {
          "output_type": "stream",
          "name": "stdout",
          "text": [
            " file completed : test_predictions.txt\n"
          ]
        }
      ]
    }
  ]
}